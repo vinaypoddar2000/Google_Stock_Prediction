{
  "nbformat": 4,
  "nbformat_minor": 0,
  "metadata": {
    "colab": {
      "provenance": []
    },
    "kernelspec": {
      "name": "python3",
      "display_name": "Python 3"
    },
    "language_info": {
      "name": "python"
    }
  },
  "cells": [
    {
      "cell_type": "code",
      "execution_count": 1,
      "metadata": {
        "id": "sVqaIEGQHU3e"
      },
      "outputs": [],
      "source": [
        "#imporitng Libraries \n",
        "import numpy as np \n",
        "import pandas as pd \n",
        "import matplotlib.pyplot as plt \n",
        "from sklearn.preprocessing import MinMaxScaler\n",
        "from keras.models import Sequential\n",
        "from keras.layers import Dense,LSTM,Dropout"
      ]
    },
    {
      "cell_type": "code",
      "source": [
        "#Mount google drive to google colab \n",
        "from google.colab import drive\n",
        "drive.mount(\"/content/gdrive\")"
      ],
      "metadata": {
        "colab": {
          "base_uri": "https://localhost:8080/"
        },
        "id": "n3OC3rAzSNj_",
        "outputId": "20e78995-cfd3-4181-a265-9b73105c4fdb"
      },
      "execution_count": 2,
      "outputs": [
        {
          "output_type": "stream",
          "name": "stdout",
          "text": [
            "Mounted at /content/gdrive\n"
          ]
        }
      ]
    },
    {
      "cell_type": "code",
      "source": [
        "#import training dataset from google drive \n",
        "StockData = pd.read_csv(\"/content/gdrive/My Drive/Google stock price dataset/Google_train_data.csv\")\n",
        "StockData.head()  #Gives first five rows of the dataset"
      ],
      "metadata": {
        "colab": {
          "base_uri": "https://localhost:8080/",
          "height": 206
        },
        "id": "X4AgLBZ7U-IJ",
        "outputId": "4953e158-6b0b-47bf-98e5-d5ecb418bda3"
      },
      "execution_count": 7,
      "outputs": [
        {
          "output_type": "execute_result",
          "data": {
            "text/plain": [
              "       Date    Open    High     Low   Close      Volume\n",
              "0  1/3/2012  325.25  332.83  324.97  663.59   7,380,500\n",
              "1  1/4/2012  331.27  333.87  329.08  666.45   5,749,400\n",
              "2  1/5/2012  329.83  330.75  326.89  657.21   6,590,300\n",
              "3  1/6/2012  328.34  328.77  323.68  648.24   5,405,900\n",
              "4  1/9/2012  322.04  322.29  309.46  620.76  11,688,800"
            ],
            "text/html": [
              "\n",
              "  <div id=\"df-05fc0f38-6be6-4a79-bc12-307fcd283cd4\">\n",
              "    <div class=\"colab-df-container\">\n",
              "      <div>\n",
              "<style scoped>\n",
              "    .dataframe tbody tr th:only-of-type {\n",
              "        vertical-align: middle;\n",
              "    }\n",
              "\n",
              "    .dataframe tbody tr th {\n",
              "        vertical-align: top;\n",
              "    }\n",
              "\n",
              "    .dataframe thead th {\n",
              "        text-align: right;\n",
              "    }\n",
              "</style>\n",
              "<table border=\"1\" class=\"dataframe\">\n",
              "  <thead>\n",
              "    <tr style=\"text-align: right;\">\n",
              "      <th></th>\n",
              "      <th>Date</th>\n",
              "      <th>Open</th>\n",
              "      <th>High</th>\n",
              "      <th>Low</th>\n",
              "      <th>Close</th>\n",
              "      <th>Volume</th>\n",
              "    </tr>\n",
              "  </thead>\n",
              "  <tbody>\n",
              "    <tr>\n",
              "      <th>0</th>\n",
              "      <td>1/3/2012</td>\n",
              "      <td>325.25</td>\n",
              "      <td>332.83</td>\n",
              "      <td>324.97</td>\n",
              "      <td>663.59</td>\n",
              "      <td>7,380,500</td>\n",
              "    </tr>\n",
              "    <tr>\n",
              "      <th>1</th>\n",
              "      <td>1/4/2012</td>\n",
              "      <td>331.27</td>\n",
              "      <td>333.87</td>\n",
              "      <td>329.08</td>\n",
              "      <td>666.45</td>\n",
              "      <td>5,749,400</td>\n",
              "    </tr>\n",
              "    <tr>\n",
              "      <th>2</th>\n",
              "      <td>1/5/2012</td>\n",
              "      <td>329.83</td>\n",
              "      <td>330.75</td>\n",
              "      <td>326.89</td>\n",
              "      <td>657.21</td>\n",
              "      <td>6,590,300</td>\n",
              "    </tr>\n",
              "    <tr>\n",
              "      <th>3</th>\n",
              "      <td>1/6/2012</td>\n",
              "      <td>328.34</td>\n",
              "      <td>328.77</td>\n",
              "      <td>323.68</td>\n",
              "      <td>648.24</td>\n",
              "      <td>5,405,900</td>\n",
              "    </tr>\n",
              "    <tr>\n",
              "      <th>4</th>\n",
              "      <td>1/9/2012</td>\n",
              "      <td>322.04</td>\n",
              "      <td>322.29</td>\n",
              "      <td>309.46</td>\n",
              "      <td>620.76</td>\n",
              "      <td>11,688,800</td>\n",
              "    </tr>\n",
              "  </tbody>\n",
              "</table>\n",
              "</div>\n",
              "      <button class=\"colab-df-convert\" onclick=\"convertToInteractive('df-05fc0f38-6be6-4a79-bc12-307fcd283cd4')\"\n",
              "              title=\"Convert this dataframe to an interactive table.\"\n",
              "              style=\"display:none;\">\n",
              "        \n",
              "  <svg xmlns=\"http://www.w3.org/2000/svg\" height=\"24px\"viewBox=\"0 0 24 24\"\n",
              "       width=\"24px\">\n",
              "    <path d=\"M0 0h24v24H0V0z\" fill=\"none\"/>\n",
              "    <path d=\"M18.56 5.44l.94 2.06.94-2.06 2.06-.94-2.06-.94-.94-2.06-.94 2.06-2.06.94zm-11 1L8.5 8.5l.94-2.06 2.06-.94-2.06-.94L8.5 2.5l-.94 2.06-2.06.94zm10 10l.94 2.06.94-2.06 2.06-.94-2.06-.94-.94-2.06-.94 2.06-2.06.94z\"/><path d=\"M17.41 7.96l-1.37-1.37c-.4-.4-.92-.59-1.43-.59-.52 0-1.04.2-1.43.59L10.3 9.45l-7.72 7.72c-.78.78-.78 2.05 0 2.83L4 21.41c.39.39.9.59 1.41.59.51 0 1.02-.2 1.41-.59l7.78-7.78 2.81-2.81c.8-.78.8-2.07 0-2.86zM5.41 20L4 18.59l7.72-7.72 1.47 1.35L5.41 20z\"/>\n",
              "  </svg>\n",
              "      </button>\n",
              "      \n",
              "  <style>\n",
              "    .colab-df-container {\n",
              "      display:flex;\n",
              "      flex-wrap:wrap;\n",
              "      gap: 12px;\n",
              "    }\n",
              "\n",
              "    .colab-df-convert {\n",
              "      background-color: #E8F0FE;\n",
              "      border: none;\n",
              "      border-radius: 50%;\n",
              "      cursor: pointer;\n",
              "      display: none;\n",
              "      fill: #1967D2;\n",
              "      height: 32px;\n",
              "      padding: 0 0 0 0;\n",
              "      width: 32px;\n",
              "    }\n",
              "\n",
              "    .colab-df-convert:hover {\n",
              "      background-color: #E2EBFA;\n",
              "      box-shadow: 0px 1px 2px rgba(60, 64, 67, 0.3), 0px 1px 3px 1px rgba(60, 64, 67, 0.15);\n",
              "      fill: #174EA6;\n",
              "    }\n",
              "\n",
              "    [theme=dark] .colab-df-convert {\n",
              "      background-color: #3B4455;\n",
              "      fill: #D2E3FC;\n",
              "    }\n",
              "\n",
              "    [theme=dark] .colab-df-convert:hover {\n",
              "      background-color: #434B5C;\n",
              "      box-shadow: 0px 1px 3px 1px rgba(0, 0, 0, 0.15);\n",
              "      filter: drop-shadow(0px 1px 2px rgba(0, 0, 0, 0.3));\n",
              "      fill: #FFFFFF;\n",
              "    }\n",
              "  </style>\n",
              "\n",
              "      <script>\n",
              "        const buttonEl =\n",
              "          document.querySelector('#df-05fc0f38-6be6-4a79-bc12-307fcd283cd4 button.colab-df-convert');\n",
              "        buttonEl.style.display =\n",
              "          google.colab.kernel.accessAllowed ? 'block' : 'none';\n",
              "\n",
              "        async function convertToInteractive(key) {\n",
              "          const element = document.querySelector('#df-05fc0f38-6be6-4a79-bc12-307fcd283cd4');\n",
              "          const dataTable =\n",
              "            await google.colab.kernel.invokeFunction('convertToInteractive',\n",
              "                                                     [key], {});\n",
              "          if (!dataTable) return;\n",
              "\n",
              "          const docLinkHtml = 'Like what you see? Visit the ' +\n",
              "            '<a target=\"_blank\" href=https://colab.research.google.com/notebooks/data_table.ipynb>data table notebook</a>'\n",
              "            + ' to learn more about interactive tables.';\n",
              "          element.innerHTML = '';\n",
              "          dataTable['output_type'] = 'display_data';\n",
              "          await google.colab.output.renderOutput(dataTable, element);\n",
              "          const docLink = document.createElement('div');\n",
              "          docLink.innerHTML = docLinkHtml;\n",
              "          element.appendChild(docLink);\n",
              "        }\n",
              "      </script>\n",
              "    </div>\n",
              "  </div>\n",
              "  "
            ]
          },
          "metadata": {},
          "execution_count": 7
        }
      ]
    },
    {
      "cell_type": "code",
      "source": [
        "#data Visualization\n",
        "StockData.info() "
      ],
      "metadata": {
        "colab": {
          "base_uri": "https://localhost:8080/"
        },
        "id": "ZdCHvu5tW-AS",
        "outputId": "23cf2b4c-a9d3-45f2-d936-5b790568674d"
      },
      "execution_count": 8,
      "outputs": [
        {
          "output_type": "stream",
          "name": "stdout",
          "text": [
            "<class 'pandas.core.frame.DataFrame'>\n",
            "RangeIndex: 1258 entries, 0 to 1257\n",
            "Data columns (total 6 columns):\n",
            " #   Column  Non-Null Count  Dtype  \n",
            "---  ------  --------------  -----  \n",
            " 0   Date    1258 non-null   object \n",
            " 1   Open    1258 non-null   float64\n",
            " 2   High    1258 non-null   float64\n",
            " 3   Low     1258 non-null   float64\n",
            " 4   Close   1258 non-null   object \n",
            " 5   Volume  1258 non-null   object \n",
            "dtypes: float64(3), object(3)\n",
            "memory usage: 59.1+ KB\n"
          ]
        }
      ]
    },
    {
      "cell_type": "code",
      "source": [
        "StockData[\"Close\"]=pd.to_numeric(StockData.Close,errors='coerce')\n",
        "StockData = StockData.dropna()\n",
        "trainData = StockData.iloc[:,4:5].values"
      ],
      "metadata": {
        "id": "3-Pa886uX7oA"
      },
      "execution_count": 9,
      "outputs": []
    },
    {
      "cell_type": "markdown",
      "source": [
        "*1. The first line of code converts the \"Close\" column in the \"StockData\" dataframe to numeric data type using the pandas \"to_numeric()\" function. The \"errors\" parameter is set to \"coerce\", which means that if there are any non-numeric values in the column, they will be converted to NaN (Not a Number) values.*\n",
        "\n",
        "*2. The second line drops any rows in the \"StockData\" dataframe that contain NaN values using the pandas \"dropna()\" function. This is done to ensure that the data is clean and ready for analysis.*\n",
        "\n",
        "*3. The third line creates a new dataframe called \"trainData\" that contains only the \"Close\" column of the \"StockData\" dataframe. The \".iloc\" function is used to select the columns by their numerical indices. The \":,4:5\" notation means that we want all rows (represented by the \":\" before the comma) and the column with index 4 (represented by \"4:5\" after the comma). The resulting \"trainData\" dataframe will contain only the \"Close\" column data.*"
      ],
      "metadata": {
        "id": "Fo37ZY0ugYWD"
      }
    },
    {
      "cell_type": "code",
      "source": [
        "#data Visualization after process\n",
        "StockData.info() "
      ],
      "metadata": {
        "colab": {
          "base_uri": "https://localhost:8080/"
        },
        "id": "1LCLsNjoYbKC",
        "outputId": "11c14c2a-d0e4-4b5d-f8f7-1fcdc3be9a02"
      },
      "execution_count": 10,
      "outputs": [
        {
          "output_type": "stream",
          "name": "stdout",
          "text": [
            "<class 'pandas.core.frame.DataFrame'>\n",
            "Int64Index: 1149 entries, 0 to 1257\n",
            "Data columns (total 6 columns):\n",
            " #   Column  Non-Null Count  Dtype  \n",
            "---  ------  --------------  -----  \n",
            " 0   Date    1149 non-null   object \n",
            " 1   Open    1149 non-null   float64\n",
            " 2   High    1149 non-null   float64\n",
            " 3   Low     1149 non-null   float64\n",
            " 4   Close   1149 non-null   float64\n",
            " 5   Volume  1149 non-null   object \n",
            "dtypes: float64(4), object(2)\n",
            "memory usage: 62.8+ KB\n"
          ]
        }
      ]
    },
    {
      "cell_type": "code",
      "source": [
        "sc = MinMaxScaler(feature_range=(0,1)) # MinMaxScaler object called \"sc\". The \"feature_range\" parameter is set to (0, 1), which means that the data will be scaled to values between 0 and 1.\n",
        "trainData = sc.fit_transform(trainData)\n",
        "trainData.shape"
      ],
      "metadata": {
        "colab": {
          "base_uri": "https://localhost:8080/"
        },
        "id": "1RZD_ojtYsJ6",
        "outputId": "12b2b572-97eb-45b5-ab24-fe0e05ae7fea"
      },
      "execution_count": 11,
      "outputs": [
        {
          "output_type": "execute_result",
          "data": {
            "text/plain": [
              "(1149, 1)"
            ]
          },
          "metadata": {},
          "execution_count": 11
        }
      ]
    },
    {
      "cell_type": "code",
      "source": [
        "X_train = []\n",
        "y_train = []\n",
        "\n",
        "for i in range (60,1149): #60 : timestep // 1149 : length of the data\n",
        "    X_train.append(trainData[i-60:i,0]) \n",
        "    y_train.append(trainData[i,0])\n",
        "\n",
        "X_train,y_train = np.array(X_train),np.array(y_train)"
      ],
      "metadata": {
        "id": "ZEKiWtkkZLhM"
      },
      "execution_count": 12,
      "outputs": []
    },
    {
      "cell_type": "code",
      "source": [
        "X_train = np.reshape(X_train,(X_train.shape[0],X_train.shape[1],1)) #adding the batch_size axis\n",
        "#1 represents the number of features in the input data (in this case, there is only one feature).\n",
        "X_train.shape"
      ],
      "metadata": {
        "colab": {
          "base_uri": "https://localhost:8080/"
        },
        "id": "RLpW4bP-Z2Qe",
        "outputId": "7b9a294e-37bd-49d0-a6f0-bf9e74dc84c8"
      },
      "execution_count": 13,
      "outputs": [
        {
          "output_type": "execute_result",
          "data": {
            "text/plain": [
              "(1089, 60, 1)"
            ]
          },
          "metadata": {},
          "execution_count": 13
        }
      ]
    },
    {
      "cell_type": "code",
      "source": [
        "#The model consists of four LSTM layers and a dense output layer.\n",
        "model = Sequential()\n",
        "\n",
        "model.add(LSTM(units=100, return_sequences = True, input_shape =(X_train.shape[1],1)))\n",
        "model.add(Dropout(0.2))\n",
        "\n",
        "model.add(LSTM(units=100, return_sequences = True))\n",
        "model.add(Dropout(0.2))\n",
        "\n",
        "model.add(LSTM(units=100, return_sequences = True))\n",
        "model.add(Dropout(0.2))\n",
        "\n",
        "model.add(LSTM(units=100, return_sequences = False))\n",
        "model.add(Dropout(0.2))\n",
        "\n",
        "model.add(Dense(units =1))\n",
        "model.compile(optimizer='adam',loss=\"mean_squared_error\")"
      ],
      "metadata": {
        "id": "vn-mzjpsaCJq"
      },
      "execution_count": 14,
      "outputs": []
    },
    {
      "cell_type": "markdown",
      "source": [
        "*The \"Dropout\" layer is used to randomly drop out a fraction of the input units during training, which can help prevent overfitting.*\n",
        "\n",
        "*The final two lines of code add a dense output layer with one output unit and compile the model. The \"optimizer\" parameter is set to \"adam\", which is an algorithm for stochastic gradient descent. The \"loss\" parameter is set to \"mean_squared_error\", which is a common loss function used in regression problems.*"
      ],
      "metadata": {
        "id": "munsqCPFjPEV"
      }
    },
    {
      "cell_type": "code",
      "source": [
        "#epochs: The number of times to iterate over the entire training dataset.\n",
        "#batch_size: The number of samples to use in each batch for training. The model weights are updated after each batch.\n",
        "#verbose: The level of logging during training. A value of 2 means that progress bars will be displayed for each epoch.\n",
        "train_model = model.fit(X_train, y_train, epochs = 20, batch_size = 32, verbose=2)"
      ],
      "metadata": {
        "colab": {
          "base_uri": "https://localhost:8080/"
        },
        "id": "JNXG_8mJaHRr",
        "outputId": "69889c6f-8c46-4617-f91f-c5d65cc7ceb5"
      },
      "execution_count": 16,
      "outputs": [
        {
          "output_type": "stream",
          "name": "stdout",
          "text": [
            "Epoch 1/20\n",
            "35/35 - 9s - loss: 0.0042 - 9s/epoch - 269ms/step\n",
            "Epoch 2/20\n",
            "35/35 - 8s - loss: 0.0045 - 8s/epoch - 243ms/step\n",
            "Epoch 3/20\n",
            "35/35 - 8s - loss: 0.0050 - 8s/epoch - 232ms/step\n",
            "Epoch 4/20\n",
            "35/35 - 9s - loss: 0.0052 - 9s/epoch - 267ms/step\n",
            "Epoch 5/20\n",
            "35/35 - 7s - loss: 0.0041 - 7s/epoch - 209ms/step\n",
            "Epoch 6/20\n",
            "35/35 - 9s - loss: 0.0036 - 9s/epoch - 263ms/step\n",
            "Epoch 7/20\n",
            "35/35 - 7s - loss: 0.0037 - 7s/epoch - 207ms/step\n",
            "Epoch 8/20\n",
            "35/35 - 9s - loss: 0.0034 - 9s/epoch - 261ms/step\n",
            "Epoch 9/20\n",
            "35/35 - 9s - loss: 0.0043 - 9s/epoch - 248ms/step\n",
            "Epoch 10/20\n",
            "35/35 - 8s - loss: 0.0035 - 8s/epoch - 220ms/step\n",
            "Epoch 11/20\n",
            "35/35 - 9s - loss: 0.0039 - 9s/epoch - 263ms/step\n",
            "Epoch 12/20\n",
            "35/35 - 7s - loss: 0.0033 - 7s/epoch - 207ms/step\n",
            "Epoch 13/20\n",
            "35/35 - 9s - loss: 0.0036 - 9s/epoch - 262ms/step\n",
            "Epoch 14/20\n",
            "35/35 - 7s - loss: 0.0033 - 7s/epoch - 208ms/step\n",
            "Epoch 15/20\n",
            "35/35 - 9s - loss: 0.0031 - 9s/epoch - 259ms/step\n",
            "Epoch 16/20\n",
            "35/35 - 9s - loss: 0.0032 - 9s/epoch - 250ms/step\n",
            "Epoch 17/20\n",
            "35/35 - 8s - loss: 0.0033 - 8s/epoch - 220ms/step\n",
            "Epoch 18/20\n",
            "35/35 - 9s - loss: 0.0030 - 9s/epoch - 262ms/step\n",
            "Epoch 19/20\n",
            "35/35 - 7s - loss: 0.0031 - 7s/epoch - 206ms/step\n",
            "Epoch 20/20\n",
            "35/35 - 9s - loss: 0.0031 - 9s/epoch - 264ms/step\n"
          ]
        }
      ]
    },
    {
      "cell_type": "code",
      "source": [
        "plt.plot(train_model.history['loss'])\n",
        "plt.title('Training model loss')\n",
        "plt.ylabel('loss')\n",
        "plt.xlabel('epoch')\n",
        "plt.legend(['train'], loc='upper left')\n",
        "plt.show()"
      ],
      "metadata": {
        "colab": {
          "base_uri": "https://localhost:8080/",
          "height": 472
        },
        "id": "mfrgpUJ-aV_u",
        "outputId": "9dad154b-150c-4cd3-c824-9e1cca40480d"
      },
      "execution_count": 17,
      "outputs": [
        {
          "output_type": "display_data",
          "data": {
            "text/plain": [
              "<Figure size 640x480 with 1 Axes>"
            ],
            "image/png": "[encoded data removed]"
          },
          "metadata": {}
        }
      ]
    },
    {
      "cell_type": "code",
      "source": [
        "#import test dataset from google drive \n",
        "testData = pd.read_csv(\"/content/gdrive/My Drive/Google stock price dataset/Google_test_data.csv\")\n",
        "testData[\"Close\"]=pd.to_numeric(testData.Close,errors='coerce')\n",
        "testData = testData.dropna()\n",
        "testData = testData.iloc[:,4:5]\n",
        "y_test = testData.iloc[60:,0:].values \n",
        "#input array for the model\n",
        "inputClosing = testData.iloc[:,0:].values \n",
        "inputClosing_scaled = sc.transform(inputClosing)\n",
        "inputClosing_scaled.shape\n",
        "X_test = []\n",
        "length = len(testData)\n",
        "timestep = 60\n",
        "for i in range(timestep,length):  \n",
        "    X_test.append(inputClosing_scaled[i-timestep:i,0])\n",
        "X_test = np.array(X_test)\n",
        "X_test = np.reshape(X_test,(X_test.shape[0],X_test.shape[1],1))\n",
        "X_test.shape"
      ],
      "metadata": {
        "colab": {
          "base_uri": "https://localhost:8080/"
        },
        "id": "9sfdr0dtdYPI",
        "outputId": "db53e374-419e-47b2-ed77-8ab54d657f19"
      },
      "execution_count": 18,
      "outputs": [
        {
          "output_type": "execute_result",
          "data": {
            "text/plain": [
              "(192, 60, 1)"
            ]
          },
          "metadata": {},
          "execution_count": 18
        }
      ]
    },
    {
      "cell_type": "code",
      "source": [
        "#stock price prediction\n",
        "y_pred = model.predict(X_test)\n",
        "y_pred"
      ],
      "metadata": {
        "colab": {
          "base_uri": "https://localhost:8080/"
        },
        "id": "rIcuRnAweu3S",
        "outputId": "34800dac-7d53-4df3-c527-7cfbe39c54c5"
      },
      "execution_count": 19,
      "outputs": [
        {
          "output_type": "stream",
          "name": "stdout",
          "text": [
            "6/6 [==============================] - 3s 71ms/step\n"
          ]
        },
        {
          "output_type": "execute_result",
          "data": {
            "text/plain": [
              "array([[1.2449507],\n",
              "       [1.2532557],\n",
              "       [1.3114015],\n",
              "       [1.317386 ],\n",
              "       [1.2904965],\n",
              "       [1.239468 ],\n",
              "       [1.221316 ],\n",
              "       [1.2320807],\n",
              "       [1.2698122],\n",
              "       [1.2801688],\n",
              "       [1.2218249],\n",
              "       [1.2049022],\n",
              "       [1.2189726],\n",
              "       [1.2102132],\n",
              "       [1.2382569],\n",
              "       [1.2445065],\n",
              "       [1.2992687],\n",
              "       [1.3207108],\n",
              "       [1.3301796],\n",
              "       [1.346081 ],\n",
              "       [1.2668643],\n",
              "       [1.2709917],\n",
              "       [1.2336122],\n",
              "       [1.2308806],\n",
              "       [1.2521464],\n",
              "       [1.2787801],\n",
              "       [1.2838401],\n",
              "       [1.2532758],\n",
              "       [1.203657 ],\n",
              "       [1.2032496],\n",
              "       [1.2016442],\n",
              "       [1.18482  ],\n",
              "       [1.1384745],\n",
              "       [1.1144079],\n",
              "       [1.1870165],\n",
              "       [1.2343286],\n",
              "       [1.2362934],\n",
              "       [1.2250385],\n",
              "       [1.2306978],\n",
              "       [1.1936707],\n",
              "       [1.2518983],\n",
              "       [1.2783376],\n",
              "       [1.2952571],\n",
              "       [1.2952477],\n",
              "       [1.2870208],\n",
              "       [1.2658018],\n",
              "       [1.2432151],\n",
              "       [1.284677 ],\n",
              "       [1.3088783],\n",
              "       [1.3275132],\n",
              "       [1.3416756],\n",
              "       [1.3020532],\n",
              "       [1.2961547],\n",
              "       [1.2945707],\n",
              "       [1.3216624],\n",
              "       [1.3011087],\n",
              "       [1.2797425],\n",
              "       [1.3142982],\n",
              "       [1.3663193],\n",
              "       [1.3714837],\n",
              "       [1.4000363],\n",
              "       [1.4230846],\n",
              "       [1.3773583],\n",
              "       [1.3415194],\n",
              "       [1.3316575],\n",
              "       [1.3358455],\n",
              "       [1.3809552],\n",
              "       [1.3916817],\n",
              "       [1.3934658],\n",
              "       [1.3777021],\n",
              "       [1.3801223],\n",
              "       [1.3734452],\n",
              "       [1.3469698],\n",
              "       [1.3625613],\n",
              "       [1.3667939],\n",
              "       [1.3770629],\n",
              "       [1.3797978],\n",
              "       [1.3849403],\n",
              "       [1.417028 ],\n",
              "       [1.4330019],\n",
              "       [1.4561441],\n",
              "       [1.4505355],\n",
              "       [1.4245696],\n",
              "       [1.4198765],\n",
              "       [1.4757788],\n",
              "       [1.5141454],\n",
              "       [1.5180082],\n",
              "       [1.5015601],\n",
              "       [1.4966031],\n",
              "       [1.4968455],\n",
              "       [1.524434 ],\n",
              "       [1.5703584],\n",
              "       [1.5847957],\n",
              "       [1.5361971],\n",
              "       [1.5124454],\n",
              "       [1.4987416],\n",
              "       [1.4835628],\n",
              "       [1.4797586],\n",
              "       [1.4902936],\n",
              "       [1.5270607],\n",
              "       [1.5380731],\n",
              "       [1.5441872],\n",
              "       [1.5552552],\n",
              "       [1.5386059],\n",
              "       [1.5317127],\n",
              "       [1.5204715],\n",
              "       [1.5314976],\n",
              "       [1.5382183],\n",
              "       [1.562965 ],\n",
              "       [1.5683161],\n",
              "       [1.5777438],\n",
              "       [1.591859 ],\n",
              "       [1.5902143],\n",
              "       [1.6123083],\n",
              "       [1.638961 ],\n",
              "       [1.6209568],\n",
              "       [1.6362389],\n",
              "       [1.6504211],\n",
              "       [1.6793363],\n",
              "       [1.4844195],\n",
              "       [1.4692127],\n",
              "       [1.4659947],\n",
              "       [1.5185938],\n",
              "       [1.5323008],\n",
              "       [1.5042866],\n",
              "       [1.4820666],\n",
              "       [1.4688544],\n",
              "       [1.469521 ],\n",
              "       [1.415688 ],\n",
              "       [1.3911219],\n",
              "       [1.4587264],\n",
              "       [1.4949648],\n",
              "       [1.470598 ],\n",
              "       [1.4230994],\n",
              "       [1.4329164],\n",
              "       [1.439246 ],\n",
              "       [1.4260029],\n",
              "       [1.4131596],\n",
              "       [1.4130098],\n",
              "       [1.3860615],\n",
              "       [1.384765 ],\n",
              "       [1.3632886],\n",
              "       [1.2560139],\n",
              "       [1.2561376],\n",
              "       [1.2488334],\n",
              "       [1.2532136],\n",
              "       [1.2841831],\n",
              "       [1.3127142],\n",
              "       [1.3143098],\n",
              "       [1.3056648],\n",
              "       [1.3162271],\n",
              "       [1.3140924],\n",
              "       [1.3236417],\n",
              "       [1.3432425],\n",
              "       [1.3473036],\n",
              "       [1.3613203],\n",
              "       [1.3803613],\n",
              "       [1.3750216],\n",
              "       [1.3284051],\n",
              "       [1.3086755],\n",
              "       [1.3024668],\n",
              "       [1.3127905],\n",
              "       [1.3427557],\n",
              "       [1.3700657],\n",
              "       [1.3889935],\n",
              "       [1.40389  ],\n",
              "       [1.3797103],\n",
              "       [1.3856494],\n",
              "       [1.4117879],\n",
              "       [1.4244653],\n",
              "       [1.4278133],\n",
              "       [1.4362988],\n",
              "       [1.4427376],\n",
              "       [1.4323905],\n",
              "       [1.4315207],\n",
              "       [1.4062954],\n",
              "       [1.4173064],\n",
              "       [1.4338367],\n",
              "       [1.4242567],\n",
              "       [1.4127159],\n",
              "       [1.5939353],\n",
              "       [1.5988276],\n",
              "       [1.5677035],\n",
              "       [1.5423485],\n",
              "       [1.5288135],\n",
              "       [1.5083646],\n",
              "       [1.4422797],\n",
              "       [1.4777421],\n",
              "       [1.4924006],\n",
              "       [1.5483606],\n",
              "       [1.5206888],\n",
              "       [1.4917407]], dtype=float32)"
            ]
          },
          "metadata": {},
          "execution_count": 19
        }
      ]
    },
    {
      "cell_type": "code",
      "source": [
        "#This line of code transforms the predicted output values from their scaled range back to their original scale.\n",
        "predicted_price = sc.inverse_transform(y_pred)"
      ],
      "metadata": {
        "id": "-g6UQY28eyXl"
      },
      "execution_count": 20,
      "outputs": []
    },
    {
      "cell_type": "code",
      "source": [
        "#compare the visualization of the predicted stock price and actual stock price graph by using matplotlib  \n",
        "plt.plot(y_test, color = 'red', label = 'Actual Stock Price')\n",
        "plt.plot(predicted_price, color = 'green', label = 'Predicted Stock Price')\n",
        "plt.title('Google stock price prediction')\n",
        "plt.xlabel('Time')\n",
        "plt.ylabel('Stock Price')\n",
        "plt.legend()\n",
        "plt.show()"
      ],
      "metadata": {
        "colab": {
          "base_uri": "https://localhost:8080/",
          "height": 472
        },
        "id": "oC2AJmp5e2rY",
        "outputId": "8e29d96d-8e43-4692-a9a4-f3d37d96ae9f"
      },
      "execution_count": 21,
      "outputs": [
        {
          "output_type": "display_data",
          "data": {
            "text/plain": [
              "<Figure size 640x480 with 1 Axes>"
            ],
            "image/png": "[encoded data removed]"
          },
          "metadata": {}
        }
      ]
    },
    {
      "cell_type": "code",
      "source": [],
      "metadata": {
        "id": "2-ChUdqSe6hy"
      },
      "execution_count": null,
      "outputs": []
    }
  ]
}